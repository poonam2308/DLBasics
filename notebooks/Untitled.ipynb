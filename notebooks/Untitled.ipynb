{
 "cells": [
  {
   "cell_type": "code",
   "execution_count": 1,
   "id": "107c9c0a-aa89-4c1f-adc6-8b747817ab41",
   "metadata": {},
   "outputs": [],
   "source": [
    "import numpy as np\n",
    "from PIL import Image\n"
   ]
  },
  {
   "cell_type": "code",
   "execution_count": 2,
   "id": "cdf0e909-98b2-4e3a-8fd6-da6cb180a381",
   "metadata": {},
   "outputs": [],
   "source": [
    "w, h = 300,300\n",
    "image_array = np.zeros((h,w,4), dtype=np.uint8)"
   ]
  },
  {
   "cell_type": "code",
   "execution_count": 3,
   "id": "5f802aca-69e2-4f97-8f75-22a711720325",
   "metadata": {},
   "outputs": [],
   "source": [
    "s_s=100\n",
    "h_s = s_s //2\n",
    "c_x, c_y =w//2, h//2\n",
    "\n",
    "image_array[c_y-h_s:c_y+h_s, c_x-h_s:c_x+h_s]= [255,0,0,255]\n",
    "image = Image.fromarray(image_array,'RGBA')\n",
    "image.save('rgba.png')\n",
    "image.show()"
   ]
  },
  {
   "cell_type": "code",
   "execution_count": 4,
   "id": "b705a85f-49b2-4bc4-adb6-8fe05d97b7f2",
   "metadata": {},
   "outputs": [],
   "source": [
    "import numpy as np\n",
    "from PIL import Image\n",
    "\n",
    "# Define image dimensions and number of channels\n",
    "width, height, num_channels = 300, 300, 6\n",
    "\n",
    "# Create an image array with the specified number of channels\n",
    "image_array = np.zeros((height, width, num_channels), dtype=np.uint8)\n",
    "\n",
    "# Define some example data for the channels\n",
    "# For simplicity, we'll use gradient data for each channel\n",
    "for i in range(num_channels):\n",
    "    image_array[:, :, i] = (i * 255 // num_channels)\n",
    "\n",
    "# Convert the numpy array to an image (PIL supports up to 4 channels directly)\n",
    "# To handle more than 4 channels, you might need to save it as a raw file or use specialized libraries\n",
    "image = Image.fromarray(image_array[:, :, :4], 'RGBA')  # Using the first 4 channels\n",
    "\n",
    "# Save or display the image\n",
    "image.save('multi_channel_image.png')\n",
    "image.show()\n"
   ]
  },
  {
   "cell_type": "code",
   "execution_count": 5,
   "id": "d8cc17f6-d212-4285-bb18-05c66e51be19",
   "metadata": {},
   "outputs": [],
   "source": [
    "import torch\n"
   ]
  },
  {
   "cell_type": "code",
   "execution_count": 6,
   "id": "1039d984-05a7-430b-b8f2-072ef1c02a95",
   "metadata": {},
   "outputs": [],
   "source": [
    "x = torch.tensor([1,2,3,4])"
   ]
  },
  {
   "cell_type": "code",
   "execution_count": 7,
   "id": "a73f1ad5-6965-41e9-9849-b5d30633c163",
   "metadata": {},
   "outputs": [
    {
     "data": {
      "text/plain": [
       "torch.Size([4])"
      ]
     },
     "execution_count": 7,
     "metadata": {},
     "output_type": "execute_result"
    }
   ],
   "source": [
    "x.shape"
   ]
  },
  {
   "cell_type": "code",
   "execution_count": 16,
   "id": "cc361133-c020-4c05-8e32-8f7bf332e2c2",
   "metadata": {},
   "outputs": [
    {
     "data": {
      "text/plain": [
       "tensor([[1],\n",
       "        [2],\n",
       "        [3],\n",
       "        [4]])"
      ]
     },
     "execution_count": 16,
     "metadata": {},
     "output_type": "execute_result"
    }
   ],
   "source": [
    "torch.unsqueeze(x, 1)"
   ]
  },
  {
   "cell_type": "code",
   "execution_count": 14,
   "id": "39b81070-10d4-44c5-b68b-4dd376e3fef9",
   "metadata": {},
   "outputs": [
    {
     "data": {
      "text/plain": [
       "torch.Size([4])"
      ]
     },
     "execution_count": 14,
     "metadata": {},
     "output_type": "execute_result"
    }
   ],
   "source": [
    "x.shape"
   ]
  },
  {
   "cell_type": "code",
   "execution_count": 19,
   "id": "3867ec72-bf17-4964-8ce9-b88801498379",
   "metadata": {},
   "outputs": [
    {
     "data": {
      "text/plain": [
       "tensor([[1],\n",
       "        [2],\n",
       "        [3],\n",
       "        [4]])"
      ]
     },
     "execution_count": 19,
     "metadata": {},
     "output_type": "execute_result"
    }
   ],
   "source": [
    "x.unsqueeze(1)"
   ]
  },
  {
   "cell_type": "code",
   "execution_count": 52,
   "id": "12f1e886-e2ae-4097-be6a-4cffd98b7a20",
   "metadata": {},
   "outputs": [
    {
     "name": "stdout",
     "output_type": "stream",
     "text": [
      "Token indices: tensor([0, 1, 2])\n",
      "Embedded tokens: tensor([[-1.4959, -1.3505, -1.9001,  1.9507,  0.2111],\n",
      "        [-0.4325, -1.0526, -0.6222, -0.6579,  0.3872],\n",
      "        [ 0.8317, -0.5908, -0.6884, -0.8178, -0.3337]],\n",
      "       grad_fn=<EmbeddingBackward0>)\n"
     ]
    }
   ],
   "source": [
    "import torch\n",
    "import torch.nn as nn\n",
    "\n",
    "# Parameters\n",
    "vocab_size = 3  # Example vocabulary size\n",
    "d_model = 5 # Dimension of the embedding vectors\n",
    "\n",
    "# Create an embedding layer\n",
    "embedding = nn.Embedding(vocab_size, d_model)\n",
    "\n",
    "# Example token indices (batch of sequences)\n",
    "token_indices = torch.tensor([0,1,2])\n",
    "\n",
    "# Get embeddings\n",
    "embedded_tokens = embedding(token_indices)\n",
    "\n",
    "print(\"Token indices:\", token_indices)\n",
    "print(\"Embedded tokens:\", embedded_tokens)\n"
   ]
  },
  {
   "cell_type": "code",
   "execution_count": 94,
   "id": "3e9a49cf-a2da-442c-bb57-0c8ffd3132be",
   "metadata": {},
   "outputs": [
    {
     "name": "stdout",
     "output_type": "stream",
     "text": [
      "Input Embeddings:\n",
      "tensor([[[0.6903, 0.5204, 0.8338, 0.3914],\n",
      "         [0.1914, 0.5398, 0.6105, 0.4342]],\n",
      "\n",
      "        [[0.6648, 0.7955, 0.1776, 0.1077],\n",
      "         [0.4159, 0.0324, 0.9512, 0.1627]],\n",
      "\n",
      "        [[0.3175, 0.7245, 0.7347, 0.0975],\n",
      "         [0.7690, 0.5583, 0.3212, 0.8656]]])\n",
      " to be added tensor([[[0.0000, 1.0000, 0.0000, 1.0000],\n",
      "         [0.8415, 0.5403, 0.0100, 0.9999]]])\n",
      "\n",
      "Encoded Input:\n",
      "tensor([[[0.6903, 1.5204, 0.8338, 1.3914],\n",
      "         [1.0329, 1.0801, 0.6205, 1.4342]],\n",
      "\n",
      "        [[0.6648, 1.7955, 0.1776, 1.1077],\n",
      "         [1.2574, 0.5727, 0.9612, 1.1626]],\n",
      "\n",
      "        [[0.3175, 1.7245, 0.7347, 1.0975],\n",
      "         [1.6105, 1.0986, 0.3312, 1.8655]]])\n"
     ]
    }
   ],
   "source": [
    "import torch\n",
    "import torch.nn as nn\n",
    "import math\n",
    "\n",
    "class PositionalEncoding(nn.Module):\n",
    "    def __init__(self, d_model, max_len=5000):\n",
    "        super(PositionalEncoding, self).__init__()\n",
    "        self.encoding = torch.zeros(max_len, d_model)\n",
    "        positions = torch.arange(0, max_len).unsqueeze(1).float()\n",
    "        #print('hi', positions)\n",
    "        div_term = torch.exp(torch.arange(0, d_model, 2).float() * -(math.log(10000.0) / d_model))\n",
    "        #print('dvi', div_term)\n",
    "        self.encoding[:, 0::2] = torch.sin(positions * div_term)\n",
    "        self.encoding[:, 1::2] = torch.cos(positions * div_term)\n",
    "        self.encoding = self.encoding.unsqueeze(0)\n",
    "\n",
    "    def forward(self, x):\n",
    "        print(\" to be added\", self.encoding[:, :x.size(1)])\n",
    "        return x + self.encoding[:, :x.size(1)]\n",
    "\n",
    "# Instantiate PositionalEncoding\n",
    "d_model = 4 # embedding dimension\n",
    "max_len = 4 # max seq length\n",
    "pos_encoding = PositionalEncoding(d_model, max_len)\n",
    "#print(pos_encoding.encoding)\n",
    "# Generate dummy input embeddings\n",
    "batch_size = 3\n",
    "seq_len = 2\n",
    "input_embeddings = torch.rand(batch_size, seq_len, d_model)\n",
    "print(\"Input Embeddings:\")\n",
    "print(input_embeddings)\n",
    "\n",
    "# Apply positional encoding\n",
    "encoded_input = pos_encoding(input_embeddings)\n",
    "print(\"\\nEncoded Input:\")\n",
    "print(encoded_input)\n",
    "\n"
   ]
  },
  {
   "cell_type": "code",
   "execution_count": 123,
   "id": "10d77a1f-142c-4874-8dbb-be3164796b1c",
   "metadata": {},
   "outputs": [],
   "source": [
    "import torch\n",
    "import torch.nn as nn\n",
    "import math\n",
    "\n",
    "class SelfAttention(nn.Module):\n",
    "    def __init__(self, d_model, n_heads):\n",
    "        super(SelfAttention, self).__init__()\n",
    "        self.d_model = d_model\n",
    "        self.n_heads = n_heads\n",
    "        assert d_model % n_heads == 0\n",
    "        self.d_k = d_model // n_heads\n",
    "\n",
    "        self.q_linear = nn.Linear(d_model, d_model)\n",
    "        self.k_linear = nn.Linear(d_model, d_model)\n",
    "        self.v_linear = nn.Linear(d_model, d_model)\n",
    "        self.out_linear = nn.Linear(d_model, d_model)\n",
    "\n",
    "    def forward(self, q, k, v, mask=None):\n",
    "        batch_size = q.size(0)\n",
    "        q = self.q_linear(q)\n",
    "        q = self.q_linear(q).view(batch_size, -1, self.n_heads, self.d_k).transpose(1, 2)\n",
    "        k = self.k_linear(k).view(batch_size, -1, self.n_heads, self.d_k).transpose(1, 2)\n",
    "        v = self.v_linear(v).view(batch_size, -1, self.n_heads, self.d_k).transpose(1, 2)\n",
    "\n",
    "        scores = torch.matmul(q, k.transpose(-2, -1)) / math.sqrt(self.d_k)\n",
    "        if mask is not None:\n",
    "            scores = scores.masked_fill(mask == 0, -1e9)\n",
    "        attn = torch.nn.functional.softmax(scores, dim=-1)\n",
    "        output = torch.matmul(attn, v)\n",
    "        print(\"out\", output.shape)\n",
    "        output = output.transpose(1, 2).contiguous().view(batch_size, -1, self.d_model)\n",
    "        return self.out_linear(output)\n"
   ]
  },
  {
   "cell_type": "code",
   "execution_count": 124,
   "id": "f994b5d8-7aa6-4b2e-93cd-94dab2213c67",
   "metadata": {},
   "outputs": [
    {
     "name": "stdout",
     "output_type": "stream",
     "text": [
      "out torch.Size([2, 3, 5, 2])\n",
      "torch.Size([2, 5, 6])\n"
     ]
    }
   ],
   "source": [
    "import torch\n",
    "import torch.nn as nn\n",
    "import math\n",
    "# Define model dimensions and the number of attention heads\n",
    "d_model = 6  # Dimension of the model (each token embedding)\n",
    "n_heads = 3  # Number of attention heads\n",
    "\n",
    "# Create an instance of the SelfAttention class\n",
    "self_attention = SelfAttention(d_model, n_heads)\n",
    " \n",
    "# Batch size: 2, Sequence length: 5, Embedding dimension: 64 (same as d_model)\n",
    "batch_size = 2\n",
    "seq_len = 5\n",
    "\n",
    "# Randomly generated tensor representing token embeddings (e.g., from an embedding layer)\n",
    "# This could be output from an embedding layer or another neural network layer.\n",
    "q = torch.rand(batch_size, seq_len, d_model)  # Query tensor\n",
    "k = torch.rand(batch_size, seq_len, d_model)  # Key tensor (typically same as q in self-attention)\n",
    "v = torch.rand(batch_size, seq_len, d_model)  # Value tensor (typically same as q in self-attention)\n",
    "# Batch size: 2, Sequence length: 5, Embedding dimension: 64 (same as d_model)\n",
    "batch_size = 2\n",
    "seq_len = 5\n",
    "\n",
    "# Randomly generated tensor representing token embeddings (e.g., from an embedding layer)\n",
    "# This could be output from an embedding layer or another neural network layer.\n",
    "q = torch.rand(batch_size, seq_len, d_model)  # Query tensor\n",
    "k = torch.rand(batch_size, seq_len, d_model)  # Key tensor (typically same as q in self-attention)\n",
    "v = torch.rand(batch_size, seq_len, d_model)  # Value tensor (typically same as q in self-attention)\n",
    "# Pass the query, key, and value tensors through the self-attention layer\n",
    "output = self_attention(q, k, v)\n",
    "\n",
    "# Output tensor shape: (batch_size, seq_len, d_model)\n",
    "print(output.shape)  # Should print: torch.Size([2, 5, 64])\n"
   ]
  },
  {
   "cell_type": "code",
   "execution_count": null,
   "id": "bd6f9441-540a-44f6-94ca-bfaccfc2442a",
   "metadata": {},
   "outputs": [],
   "source": []
  }
 ],
 "metadata": {
  "kernelspec": {
   "display_name": "Python 3 (ipykernel)",
   "language": "python",
   "name": "python3"
  },
  "language_info": {
   "codemirror_mode": {
    "name": "ipython",
    "version": 3
   },
   "file_extension": ".py",
   "mimetype": "text/x-python",
   "name": "python",
   "nbconvert_exporter": "python",
   "pygments_lexer": "ipython3",
   "version": "3.12.4"
  }
 },
 "nbformat": 4,
 "nbformat_minor": 5
}
